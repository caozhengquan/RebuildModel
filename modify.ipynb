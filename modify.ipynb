{
 "cells": [
  {
   "cell_type": "code",
   "execution_count": 108,
   "metadata": {
    "collapsed": true
   },
   "outputs": [],
   "source": [
    "%matplotlib inline\n",
    "import mxnet as mx\n",
    "import numpy as np\n"
   ]
  },
  {
   "cell_type": "code",
   "execution_count": 109,
   "metadata": {
    "collapsed": false
   },
   "outputs": [],
   "source": [
    "model=mx.model.FeedForward.load('modelname',1,num_batch_size=1)"
   ]
  },
  {
   "cell_type": "code",
   "execution_count": 113,
   "metadata": {
    "collapsed": false
   },
   "outputs": [
    {
     "data": {
      "text/plain": [
       "['data',\n",
       " 'conv1_weight',\n",
       " 'conv1_bias',\n",
       " 'conv1_output',\n",
       " 'slice1_output0',\n",
       " 'slice1_output1',\n",
       " '_maximum0_output',\n",
       " 'pool1_output',\n",
       " 'conv2_r_weight',\n",
       " 'conv2_r_bias',\n",
       " 'conv2_r_output',\n",
       " 'slice2_r_output0',\n",
       " 'slice2_r_output1',\n",
       " '_maximum1_output',\n",
       " 'conv2_weight',\n",
       " 'conv2_bias',\n",
       " 'conv2_output',\n",
       " 'slice2_output0',\n",
       " 'slice2_output1',\n",
       " '_maximum2_output',\n",
       " 'pool2_output',\n",
       " 'conv3_r_weight',\n",
       " 'conv3_r_bias',\n",
       " 'conv3_r_output',\n",
       " 'slice3_r_output0',\n",
       " 'slice3_r_output1',\n",
       " '_maximum3_output',\n",
       " 'conv3_weight',\n",
       " 'conv3_bias',\n",
       " 'conv3_output',\n",
       " 'slice3_output0',\n",
       " 'slice3_output1',\n",
       " '_maximum4_output',\n",
       " 'pool3_output',\n",
       " 'conv4_r_weight',\n",
       " 'conv4_r_bias',\n",
       " 'conv4_r_output',\n",
       " 'slice4_r_output0',\n",
       " 'slice4_r_output1',\n",
       " '_maximum5_output',\n",
       " 'conv4_weight',\n",
       " 'conv4_bias',\n",
       " 'conv4_output',\n",
       " 'slice4_output0',\n",
       " 'slice4_output1',\n",
       " '_maximum6_output',\n",
       " 'pool4_output',\n",
       " 'conv5_r_weight',\n",
       " 'conv5_r_bias',\n",
       " 'conv5_r_output',\n",
       " 'slice5_r_output0',\n",
       " 'slice5_r_output1',\n",
       " '_maximum7_output',\n",
       " 'conv5_weight',\n",
       " 'conv5_bias',\n",
       " 'conv5_output',\n",
       " 'slice5_output0',\n",
       " 'slice5_output1',\n",
       " '_maximum8_output',\n",
       " 'pool5_output',\n",
       " 'flatten0_output',\n",
       " 'fc1_weight',\n",
       " 'fc1_bias',\n",
       " 'fc1_output',\n",
       " 'slice_fc1_output0',\n",
       " 'slice_fc1_output1',\n",
       " '_maximum9_output',\n",
       " 'drop1_output',\n",
       " 'fc2_weight',\n",
       " 'fc2_bias',\n",
       " 'fc2_output',\n",
       " 'softmax_label',\n",
       " 'softmax_output']"
      ]
     },
     "execution_count": 113,
     "metadata": {},
     "output_type": "execute_result"
    }
   ],
   "source": [
    "internals=model.symbol.get_internals()   #list all symbol\n",
    "internals.list_outputs()"
   ]
  },
  {
   "cell_type": "code",
   "execution_count": 114,
   "metadata": {
    "collapsed": false
   },
   "outputs": [],
   "source": [
    "fea_symbol=internals['drop1_output']   #choose feature layer\n",
    "\n",
    "feature_extractor=mx.model.FeedForward(symbol=fea_symbol,\n",
    "                                       numpy_batch_size=1,arg_params=model.arg_params,aux_params=model.aux_params,allow_extra_params=True)\n"
   ]
  },
  {
   "cell_type": "code",
   "execution_count": 116,
   "metadata": {
    "collapsed": false
   },
   "outputs": [],
   "source": [
    "feature_extractor.save('newmodelname',1)  #save new symbol and model"
   ]
  },
  {
   "cell_type": "code",
   "execution_count": 102,
   "metadata": {
    "collapsed": false,
    "scrolled": true
   },
   "outputs": [],
   "source": [
    "new_model=mx.model.FeedForward.load('newmodelname',1,num_batch_size=1)"
   ]
  }
 ],
 "metadata": {
  "kernelspec": {
   "display_name": "Python 2",
   "language": "python",
   "name": "python2"
  },
  "language_info": {
   "codemirror_mode": {
    "name": "ipython",
    "version": 2
   },
   "file_extension": ".py",
   "mimetype": "text/x-python",
   "name": "python",
   "nbconvert_exporter": "python",
   "pygments_lexer": "ipython2",
   "version": "2.7.6"
  }
 },
 "nbformat": 4,
 "nbformat_minor": 0
}
