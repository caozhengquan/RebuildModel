{
 "cells": [
  {
   "cell_type": "code",
   "execution_count": 108,
   "metadata": {
    "collapsed": true
   },
   "outputs": [],
   "source": [
    "%matplotlib inline\n",
    "import mxnet as mx\n",
    "import numpy as np\n"
   ]
  },
  {
   "cell_type": "code",
   "execution_count": 109,
   "metadata": {
    "collapsed": false
   },
   "outputs": [],
   "source": [
    "model=mx.model.FeedForward.load('modelname',1,num_batch_size=1)"
   ]
  },
  {
   "cell_type": "code",
   "execution_count": 113,
   "metadata": {
    "collapsed": false
   },
   "outputs": [
    {
     "data": {
      "text/plain": [
       "['data',\n",
       " 'conv1_weight',\n",
       " 'conv1_bias',\n",
       " 'conv1_output',\n",
       " 'slice1_output0',\n",
       " 'slice1_output1',\n",
       " '_maximum0_output',\n",
       " 'pool1_output',\n",
       " 'conv2_r_weight',\n",
       " 'conv2_r_bias',\n",
       " 'conv2_r_output',\n",
       " 'slice2_r_output0',\n",
       " 'slice2_r_output1',\n",
       " '_maximum1_output',\n",
       " 'conv2_weight',\n",
       " 'conv2_bias',\n",
       " 'conv2_output',\n",
       " 'slice2_output0',\n",
       " 'slice2_output1',\n",
       " '_maximum2_output',\n",
       " 'pool2_output',\n",
       " 'conv3_r_weight',\n",
       " 'conv3_r_bias',\n",
       " 'conv3_r_output',\n",
       " 'slice3_r_output0',\n",
       " 'slice3_r_output1',\n",
       " '_maximum3_output',\n",
       " 'conv3_weight',\n",
       " 'conv3_bias',\n",
       " 'conv3_output',\n",
       " 'slice3_output0',\n",
       " 'slice3_output1',\n",
       " '_maximum4_output',\n",
       " 'pool3_output',\n",
       " 'conv4_r_weight',\n",
       " 'conv4_r_bias',\n",
       " 'conv4_r_output',\n",
       " 'slice4_r_output0',\n",
       " 'slice4_r_output1',\n",
       " '_maximum5_output',\n",
       " 'conv4_weight',\n",
       " 'conv4_bias',\n",
       " 'conv4_output',\n",
       " 'slice4_output0',\n",
       " 'slice4_output1',\n",
       " '_maximum6_output',\n",
       " 'pool4_output',\n",
       " 'conv5_r_weight',\n",
       " 'conv5_r_bias',\n",
       " 'conv5_r_output',\n",
       " 'slice5_r_output0',\n",
       " 'slice5_r_output1',\n",
       " '_maximum7_output',\n",
       " 'conv5_weight',\n",
       " 'conv5_bias',\n",
       " 'conv5_output',\n",
       " 'slice5_output0',\n",
       " 'slice5_output1',\n",
       " '_maximum8_output',\n",
       " 'pool5_output',\n",
       " 'flatten0_output',\n",
       " 'fc1_weight',\n",
       " 'fc1_bias',\n",
       " 'fc1_output',\n",
       " 'slice_fc1_output0',\n",
       " 'slice_fc1_output1',\n",
       " '_maximum9_output',\n",
       " 'drop1_output',\n",
       " 'fc2_weight',\n",
       " 'fc2_bias',\n",
       " 'fc2_output',\n",
       " 'softmax_label',\n",
       " 'softmax_output']"
      ]
     },
     "execution_count": 113,
     "metadata": {},
     "output_type": "execute_result"
    }
   ],
   "source": [
    "internals=model.symbol.get_internals()\n",
    "internals.list_outputs()"
   ]
  },
  {
   "cell_type": "code",
   "execution_count": 114,
   "metadata": {
    "collapsed": false
   },
   "outputs": [],
   "source": [
    "fea_symbol=internals['drop1_output']\n",
    "\n",
    "feature_extractor=mx.model.FeedForward(symbol=fea_symbol,\n",
    "                                       numpy_batch_size=1,arg_params=model.arg_params,aux_params=model.aux_params,allow_extra_params=True)\n",
    "\n",
    "global_feature=feature_extractor.predict(a)\n"
   ]
  },
  {
   "cell_type": "code",
   "execution_count": 115,
   "metadata": {
    "collapsed": false
   },
   "outputs": [
    {
     "name": "stdout",
     "output_type": "stream",
     "text": [
      "[[ -1.75288558e-01  -8.15717280e-02  -1.63837421e+00   2.86280811e-02\n",
      "    7.24901915e-01   8.68894279e-01  -8.65456164e-01   1.89362180e+00\n",
      "   -8.32184672e-01   5.33417881e-01   9.12026286e-01   2.01535225e-03\n",
      "   -7.87428021e-01  -7.84250498e-01  -4.92984593e-01   2.71555454e-01\n",
      "   -1.19156373e+00  -1.12609887e+00   1.12258232e+00   2.51324117e-01\n",
      "    5.63465238e-01  -6.95735097e-01  -1.99435636e-01   5.47722876e-01\n",
      "    5.40842831e-01   7.25444973e-01   3.82517338e-01  -2.84168154e-01\n",
      "    1.30061483e+00   2.20950738e-01  -8.79352987e-02   5.96084833e-01\n",
      "    2.97151476e-01  -4.64008808e-01  -1.24000356e-01   6.18440390e-01\n",
      "    1.35364878e+00   5.43706179e-01  -4.98971194e-01  -1.38929200e+00\n",
      "   -1.50631145e-01   1.96870089e-01   9.05724406e-01   7.09758162e-01\n",
      "    5.98465323e-01   4.73184943e-01  -1.04339123e-02  -1.80686072e-01\n",
      "    6.55876994e-01  -7.07532942e-01  -2.72363931e-01   6.42797709e-01\n",
      "    6.09808564e-01   1.61692524e+00  -3.97028148e-01  -4.72983956e-01\n",
      "    2.37857759e-01   1.57531214e+00  -1.28708625e+00  -1.16333053e-01\n",
      "   -4.33570266e-01  -5.59442490e-02  -7.75023758e-01  -1.01393449e+00\n",
      "   -6.86470270e-01  -4.38558996e-01  -6.04084790e-01   8.75557721e-01\n",
      "   -3.53319108e-01  -2.29391783e-01   1.01679921e+00   1.78291845e+00\n",
      "   -4.10754979e-02   5.03345311e-01   5.85851371e-02   2.55495131e-01\n",
      "   -6.75650418e-01   4.35303271e-01   1.43275380e-01  -2.56777823e-01\n",
      "   -8.74071479e-01   3.40510815e-01   2.63090640e-01  -5.20397067e-01\n",
      "    6.02147222e-01  -2.44320765e-01   3.97368729e-01  -2.12516114e-01\n",
      "    7.23010778e-01   2.60477841e-01  -3.15162033e-01  -4.99142081e-01\n",
      "   -1.05124152e+00   1.46905676e-01  -3.95413071e-01   8.13492179e-01\n",
      "    9.50803995e-01   9.83877927e-02  -6.56893730e-01   5.86993217e-01\n",
      "    4.50956553e-01   4.07505989e-01   1.60975397e-01   3.09647590e-01\n",
      "   -5.13210654e-01   4.09480542e-01   1.16997778e+00   4.46623892e-01\n",
      "   -4.93595839e-01  -8.03531885e-01  -1.15694475e+00  -2.49365956e-01\n",
      "   -8.55552852e-01  -7.10070014e-01   7.07779229e-02  -1.56629160e-01\n",
      "   -3.42282861e-01   1.08190358e+00   6.10233068e-01   1.32337570e+00\n",
      "   -6.15189373e-01   3.06654692e-01   4.80508804e-01  -1.09436584e+00\n",
      "   -2.78575391e-01   5.73128581e-01  -1.22099429e-01   1.28786600e+00\n",
      "    5.74700534e-02  -3.53676796e-01  -5.07961452e-01   3.56410801e-01\n",
      "    2.94747651e-02   1.96923792e-01   8.21977556e-01  -9.00427341e-01\n",
      "    4.15194005e-01  -1.02726185e+00   8.28362465e-01   7.14011788e-01\n",
      "   -4.93674576e-01   5.71445286e-01  -1.70849979e-01  -1.72176763e-01\n",
      "   -7.90870070e-01   1.57481718e+00   1.20473862e-01  -8.73530269e-01\n",
      "    1.01479840e+00   4.95696783e-01  -1.06926262e-02   9.78727341e-01\n",
      "    4.53679353e-01   1.25467926e-01   4.64722291e-02  -3.64586920e-01\n",
      "    1.00648093e+00   2.20533818e-01   1.85356975e+00  -9.75989580e-01\n",
      "    4.88491088e-01   9.54441786e-01   1.36855841e-01  -6.71697557e-02\n",
      "    4.40068692e-01   1.13055670e+00  -7.81453192e-01  -5.02927065e-01\n",
      "    4.03285891e-01  -1.85535476e-01  -6.21881843e-01  -8.43603492e-01\n",
      "    8.07641447e-01   1.21899150e-01  -1.31511068e+00  -8.72447267e-02\n",
      "   -2.32425004e-01  -3.61394018e-01  -9.48200464e-01   1.39063621e+00\n",
      "   -2.47678846e-01   6.05815530e-01   3.58841032e-01  -6.05351329e-01\n",
      "    1.86361894e-01  -6.28781080e-01  -2.80772805e-01   1.28509676e+00\n",
      "   -9.20669138e-01   3.52977902e-01  -3.33947957e-01  -3.13807607e-01\n",
      "    4.50805277e-01   1.58880639e+00   3.89231592e-01   1.08556199e+00\n",
      "    1.94368094e-01   1.64382291e+00  -1.99536592e-01   2.88278550e-01\n",
      "   -2.38993496e-01  -9.13823128e-01   1.34774613e+00  -3.34909320e-01\n",
      "    1.10565531e+00   6.40024424e-01   1.28220007e-01   7.92887151e-01\n",
      "    6.14205182e-01   2.07086945e+00   8.96342754e-01   7.46304274e-01\n",
      "   -1.24961102e+00   1.47471070e-01   7.62402639e-02   1.04750478e+00\n",
      "   -1.22025967e+00   1.10714626e+00   3.50218952e-01  -5.75559556e-01\n",
      "   -1.11095536e+00   3.63414705e-01   8.04329887e-02   3.61691117e-01\n",
      "    2.40545869e-01   2.19252557e-01   1.01957828e-01  -1.37442267e+00\n",
      "   -4.68618631e-01   7.17759013e-01   3.86218548e-01  -3.27967823e-01\n",
      "    8.28541100e-01   5.84614158e-01  -4.48229551e-01   1.11437231e-01\n",
      "   -1.05147086e-01  -3.37625682e-01   1.72451347e-01   7.52452374e-01\n",
      "   -7.93084383e-01   8.59009504e-01   9.86692905e-01  -3.45358729e-01\n",
      "   -6.19744837e-01   6.27789617e-01  -8.69416475e-01   7.12131187e-02\n",
      "   -4.50608671e-01  -2.08252326e-01   8.97151470e-01   9.32083607e-01\n",
      "   -7.64367282e-02   7.86247134e-01  -1.11304390e+00   3.07231814e-01]]\n",
      "(1, 256)\n"
     ]
    }
   ],
   "source": [
    "print(global_feature.shape)"
   ]
  },
  {
   "cell_type": "code",
   "execution_count": 116,
   "metadata": {
    "collapsed": false
   },
   "outputs": [],
   "source": [
    "feature_extractor.save('newmodelname',1)"
   ]
  },
  {
   "cell_type": "code",
   "execution_count": 102,
   "metadata": {
    "collapsed": false,
    "scrolled": true
   },
   "outputs": [],
   "source": [
    "new_model=mx.model.FeedForward.load('newmodelname',1,num_batch_size=1)"
   ]
  }
 ],
 "metadata": {
  "kernelspec": {
   "display_name": "Python 2",
   "language": "python",
   "name": "python2"
  },
  "language_info": {
   "codemirror_mode": {
    "name": "ipython",
    "version": 2
   },
   "file_extension": ".py",
   "mimetype": "text/x-python",
   "name": "python",
   "nbconvert_exporter": "python",
   "pygments_lexer": "ipython2",
   "version": "2.7.6"
  }
 },
 "nbformat": 4,
 "nbformat_minor": 0
}
